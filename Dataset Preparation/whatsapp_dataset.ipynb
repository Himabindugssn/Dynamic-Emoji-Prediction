{
  "nbformat": 4,
  "nbformat_minor": 0,
  "metadata": {
    "colab": {
      "name": "whatsapp_dataset.ipynb",
      "provenance": []
    },
    "kernelspec": {
      "name": "python3",
      "display_name": "Python 3"
    }
  },
  "cells": [
    {
      "cell_type": "code",
      "metadata": {
        "id": "vXrhOhI4jZv1"
      },
      "source": [
        "import pandas as pd\n",
        "import numpy as np\n",
        "import re"
      ],
      "execution_count": null,
      "outputs": []
    },
    {
      "cell_type": "code",
      "metadata": {
        "id": "vxprpXsXip9C"
      },
      "source": [
        "data= pd.read_csv('/content/WhatsApp Chat with Emoji_exams (1).txt',sep='\\n',names=['text'])"
      ],
      "execution_count": null,
      "outputs": []
    },
    {
      "cell_type": "code",
      "metadata": {
        "id": "a1LEOzgJjkRi",
        "colab": {
          "base_uri": "https://localhost:8080/",
          "height": 204
        },
        "outputId": "9f143e72-f1b2-4755-c3f8-e22c09756080"
      },
      "source": [
        "data.head()"
      ],
      "execution_count": null,
      "outputs": [
        {
          "output_type": "execute_result",
          "data": {
            "text/html": [
              "<div>\n",
              "<style scoped>\n",
              "    .dataframe tbody tr th:only-of-type {\n",
              "        vertical-align: middle;\n",
              "    }\n",
              "\n",
              "    .dataframe tbody tr th {\n",
              "        vertical-align: top;\n",
              "    }\n",
              "\n",
              "    .dataframe thead th {\n",
              "        text-align: right;\n",
              "    }\n",
              "</style>\n",
              "<table border=\"1\" class=\"dataframe\">\n",
              "  <thead>\n",
              "    <tr style=\"text-align: right;\">\n",
              "      <th></th>\n",
              "      <th>text</th>\n",
              "    </tr>\n",
              "  </thead>\n",
              "  <tbody>\n",
              "    <tr>\n",
              "      <th>0</th>\n",
              "      <td>05/10/20, 9:48 am - Himabindu: Hi!</td>\n",
              "    </tr>\n",
              "    <tr>\n",
              "      <th>1</th>\n",
              "      <td>05/10/20, 9:57 am - Himabindu: Was anything to...</td>\n",
              "    </tr>\n",
              "    <tr>\n",
              "      <th>2</th>\n",
              "      <td>05/10/20, 10:05 am - Bhumika: Hey</td>\n",
              "    </tr>\n",
              "    <tr>\n",
              "      <th>3</th>\n",
              "      <td>05/10/20, 10:05 am - Bhumika: The first two un...</td>\n",
              "    </tr>\n",
              "    <tr>\n",
              "      <th>4</th>\n",
              "      <td>05/10/20, 10:08 am - Himabindu: lab is going o...</td>\n",
              "    </tr>\n",
              "  </tbody>\n",
              "</table>\n",
              "</div>"
            ],
            "text/plain": [
              "                                                text\n",
              "0                 05/10/20, 9:48 am - Himabindu: Hi!\n",
              "1  05/10/20, 9:57 am - Himabindu: Was anything to...\n",
              "2                  05/10/20, 10:05 am - Bhumika: Hey\n",
              "3  05/10/20, 10:05 am - Bhumika: The first two un...\n",
              "4  05/10/20, 10:08 am - Himabindu: lab is going o..."
            ]
          },
          "metadata": {
            "tags": []
          },
          "execution_count": 48
        }
      ]
    },
    {
      "cell_type": "code",
      "metadata": {
        "id": "IDoYt9GAj2Oa",
        "colab": {
          "base_uri": "https://localhost:8080/",
          "height": 34
        },
        "outputId": "6afb4a8b-67f0-4de6-e829-551a4c55aef8"
      },
      "source": [
        "data.shape"
      ],
      "execution_count": null,
      "outputs": [
        {
          "output_type": "execute_result",
          "data": {
            "text/plain": [
              "(139, 1)"
            ]
          },
          "metadata": {
            "tags": []
          },
          "execution_count": 49
        }
      ]
    },
    {
      "cell_type": "code",
      "metadata": {
        "id": "ghTPEwGEzknt"
      },
      "source": [
        "def extract_date(text):\n",
        "  tokens=text.split()\n",
        "  return tokens[0]\n",
        "\n",
        "def times(text):\n",
        "  tokens=text.split()\n",
        "  return tokens[1]\n",
        "\n",
        "def am_pm(text):\n",
        "  tokens=text.split()\n",
        "  return tokens[2]"
      ],
      "execution_count": null,
      "outputs": []
    },
    {
      "cell_type": "code",
      "metadata": {
        "id": "3lAbFvVV0Efs"
      },
      "source": [
        "data['date']=data['text'].apply(lambda x: extract_date(x))"
      ],
      "execution_count": null,
      "outputs": []
    },
    {
      "cell_type": "code",
      "metadata": {
        "id": "Kgo9QiRe3LHU"
      },
      "source": [
        "x= data['text'][5]"
      ],
      "execution_count": null,
      "outputs": []
    },
    {
      "cell_type": "code",
      "metadata": {
        "id": "IpM5lHkc3cAA",
        "colab": {
          "base_uri": "https://localhost:8080/",
          "height": 35
        },
        "outputId": "8435cb4a-5f17-49de-e505-bb506e508097"
      },
      "source": [
        "x.split(',')[0] #date"
      ],
      "execution_count": null,
      "outputs": [
        {
          "output_type": "execute_result",
          "data": {
            "application/vnd.google.colaboratory.intrinsic+json": {
              "type": "string"
            },
            "text/plain": [
              "'05/10/20'"
            ]
          },
          "metadata": {
            "tags": []
          },
          "execution_count": 53
        }
      ]
    },
    {
      "cell_type": "code",
      "metadata": {
        "id": "RibsyyeeqsqF",
        "colab": {
          "base_uri": "https://localhost:8080/",
          "height": 35
        },
        "outputId": "091605bb-4980-41a6-89fd-ebc262456072"
      },
      "source": [
        "(x.split('-')[0]).split(',')[1] #time"
      ],
      "execution_count": null,
      "outputs": [
        {
          "output_type": "execute_result",
          "data": {
            "application/vnd.google.colaboratory.intrinsic+json": {
              "type": "string"
            },
            "text/plain": [
              "' 10:08 am '"
            ]
          },
          "metadata": {
            "tags": []
          },
          "execution_count": 54
        }
      ]
    },
    {
      "cell_type": "code",
      "metadata": {
        "id": "fqXOmVNKqP-1",
        "colab": {
          "base_uri": "https://localhost:8080/",
          "height": 35
        },
        "outputId": "d6fcf33a-e2a3-417b-f6e7-0a6b7cb0e66b"
      },
      "source": [
        "(x.split('-')[1]).split(':')[0] #author"
      ],
      "execution_count": null,
      "outputs": [
        {
          "output_type": "execute_result",
          "data": {
            "application/vnd.google.colaboratory.intrinsic+json": {
              "type": "string"
            },
            "text/plain": [
              "' Himabindu'"
            ]
          },
          "metadata": {
            "tags": []
          },
          "execution_count": 55
        }
      ]
    },
    {
      "cell_type": "code",
      "metadata": {
        "id": "oufczxqyqTHD",
        "colab": {
          "base_uri": "https://localhost:8080/",
          "height": 35
        },
        "outputId": "d4e35f1d-2bac-4c43-d428-30aa428a462a"
      },
      "source": [
        "(x.split('-')[1]).split(':')[1] #msg"
      ],
      "execution_count": null,
      "outputs": [
        {
          "output_type": "execute_result",
          "data": {
            "application/vnd.google.colaboratory.intrinsic+json": {
              "type": "string"
            },
            "text/plain": [
              "' 👋🏻'"
            ]
          },
          "metadata": {
            "tags": []
          },
          "execution_count": 56
        }
      ]
    },
    {
      "cell_type": "code",
      "metadata": {
        "id": "ZFtkrzy6sXWR",
        "colab": {
          "base_uri": "https://localhost:8080/",
          "height": 85
        },
        "outputId": "64583413-4873-434d-ea5b-c2e7f4bf7eae"
      },
      "source": [
        "x='26/01/20, 7:41 pm - Messages and calls are end-to-end encrypted. No one outside of this chat, not even WhatsApp, can read or listen to them. Tap to learn more.'\n",
        "x.split('-')"
      ],
      "execution_count": null,
      "outputs": [
        {
          "output_type": "execute_result",
          "data": {
            "text/plain": [
              "['26/01/20, 7:41 pm ',\n",
              " ' Messages and calls are end',\n",
              " 'to',\n",
              " 'end encrypted. No one outside of this chat, not even WhatsApp, can read or listen to them. Tap to learn more.']"
            ]
          },
          "metadata": {
            "tags": []
          },
          "execution_count": 57
        }
      ]
    },
    {
      "cell_type": "code",
      "metadata": {
        "id": "WHUb4kg-qUsH"
      },
      "source": [
        "def date(x):\n",
        "  x= str (x)\n",
        "  return x.split(',')[0]\n",
        "\n",
        "def time(x):\n",
        "  try:\n",
        "    x= str (x)\n",
        "    return (x.split('-')[0]).split(',')[1]\n",
        "  except:\n",
        "    return None\n",
        "\n",
        "def author(x):\n",
        "  try :\n",
        "    x= str (x)\n",
        "    return (x.split('-')[1]).split(':')[0]\n",
        "\n",
        "  except:\n",
        "    return None\n",
        "\n",
        "def msg(x):\n",
        "  try:\n",
        "    x= str (x)\n",
        "    return (x.split('-')[1]).split(':')[1]\n",
        "  \n",
        "  except:\n",
        "    return None\n"
      ],
      "execution_count": null,
      "outputs": []
    },
    {
      "cell_type": "code",
      "metadata": {
        "id": "BNsVLLcTrTj8"
      },
      "source": [
        "data['date']=data['text'].apply(date)"
      ],
      "execution_count": null,
      "outputs": []
    },
    {
      "cell_type": "code",
      "metadata": {
        "id": "jNtrBDk2rgZQ"
      },
      "source": [
        "data['time']=data['text'].apply(time)"
      ],
      "execution_count": null,
      "outputs": []
    },
    {
      "cell_type": "code",
      "metadata": {
        "id": "qlwl386Grj0W"
      },
      "source": [
        "data['author']=data['text'].apply(author)"
      ],
      "execution_count": null,
      "outputs": []
    },
    {
      "cell_type": "code",
      "metadata": {
        "id": "4QPgXSutsKGp"
      },
      "source": [
        "data['msg']=data['text'].apply(msg)"
      ],
      "execution_count": null,
      "outputs": []
    },
    {
      "cell_type": "code",
      "metadata": {
        "id": "nX1y2Gf_xRa-",
        "colab": {
          "base_uri": "https://localhost:8080/",
          "height": 204
        },
        "outputId": "ee6b2a7f-31ab-457d-9641-a85d655d72e8"
      },
      "source": [
        "data.head()"
      ],
      "execution_count": null,
      "outputs": [
        {
          "output_type": "execute_result",
          "data": {
            "text/html": [
              "<div>\n",
              "<style scoped>\n",
              "    .dataframe tbody tr th:only-of-type {\n",
              "        vertical-align: middle;\n",
              "    }\n",
              "\n",
              "    .dataframe tbody tr th {\n",
              "        vertical-align: top;\n",
              "    }\n",
              "\n",
              "    .dataframe thead th {\n",
              "        text-align: right;\n",
              "    }\n",
              "</style>\n",
              "<table border=\"1\" class=\"dataframe\">\n",
              "  <thead>\n",
              "    <tr style=\"text-align: right;\">\n",
              "      <th></th>\n",
              "      <th>text</th>\n",
              "      <th>date</th>\n",
              "      <th>time</th>\n",
              "      <th>author</th>\n",
              "      <th>msg</th>\n",
              "    </tr>\n",
              "  </thead>\n",
              "  <tbody>\n",
              "    <tr>\n",
              "      <th>0</th>\n",
              "      <td>05/10/20, 9:48 am - Himabindu: Hi!</td>\n",
              "      <td>05/10/20</td>\n",
              "      <td>9:48 am</td>\n",
              "      <td>Himabindu</td>\n",
              "      <td>Hi!</td>\n",
              "    </tr>\n",
              "    <tr>\n",
              "      <th>1</th>\n",
              "      <td>05/10/20, 9:57 am - Himabindu: Was anything to...</td>\n",
              "      <td>05/10/20</td>\n",
              "      <td>9:57 am</td>\n",
              "      <td>Himabindu</td>\n",
              "      <td>Was anything told about the syllabus of ML?</td>\n",
              "    </tr>\n",
              "    <tr>\n",
              "      <th>2</th>\n",
              "      <td>05/10/20, 10:05 am - Bhumika: Hey</td>\n",
              "      <td>05/10/20</td>\n",
              "      <td>10:05 am</td>\n",
              "      <td>Bhumika</td>\n",
              "      <td>Hey</td>\n",
              "    </tr>\n",
              "    <tr>\n",
              "      <th>3</th>\n",
              "      <td>05/10/20, 10:05 am - Bhumika: The first two un...</td>\n",
              "      <td>05/10/20</td>\n",
              "      <td>10:05 am</td>\n",
              "      <td>Bhumika</td>\n",
              "      <td>The first two units I think 😅</td>\n",
              "    </tr>\n",
              "    <tr>\n",
              "      <th>4</th>\n",
              "      <td>05/10/20, 10:08 am - Himabindu: lab is going o...</td>\n",
              "      <td>05/10/20</td>\n",
              "      <td>10:08 am</td>\n",
              "      <td>Himabindu</td>\n",
              "      <td>lab is going on. ttyl</td>\n",
              "    </tr>\n",
              "  </tbody>\n",
              "</table>\n",
              "</div>"
            ],
            "text/plain": [
              "                                                text  ...                                           msg\n",
              "0                 05/10/20, 9:48 am - Himabindu: Hi!  ...                                           Hi!\n",
              "1  05/10/20, 9:57 am - Himabindu: Was anything to...  ...   Was anything told about the syllabus of ML?\n",
              "2                  05/10/20, 10:05 am - Bhumika: Hey  ...                                           Hey\n",
              "3  05/10/20, 10:05 am - Bhumika: The first two un...  ...                 The first two units I think 😅\n",
              "4  05/10/20, 10:08 am - Himabindu: lab is going o...  ...                         lab is going on. ttyl\n",
              "\n",
              "[5 rows x 5 columns]"
            ]
          },
          "metadata": {
            "tags": []
          },
          "execution_count": 63
        }
      ]
    },
    {
      "cell_type": "code",
      "metadata": {
        "id": "gxua6ZDhxqAE"
      },
      "source": [
        "df=pd.DataFrame(data['date'],columns=['date'])"
      ],
      "execution_count": null,
      "outputs": []
    },
    {
      "cell_type": "code",
      "metadata": {
        "id": "oKCCSYlfxySE",
        "colab": {
          "base_uri": "https://localhost:8080/",
          "height": 204
        },
        "outputId": "d219c819-190c-4711-9530-12bb854f6f1e"
      },
      "source": [
        "df.head()"
      ],
      "execution_count": null,
      "outputs": [
        {
          "output_type": "execute_result",
          "data": {
            "text/html": [
              "<div>\n",
              "<style scoped>\n",
              "    .dataframe tbody tr th:only-of-type {\n",
              "        vertical-align: middle;\n",
              "    }\n",
              "\n",
              "    .dataframe tbody tr th {\n",
              "        vertical-align: top;\n",
              "    }\n",
              "\n",
              "    .dataframe thead th {\n",
              "        text-align: right;\n",
              "    }\n",
              "</style>\n",
              "<table border=\"1\" class=\"dataframe\">\n",
              "  <thead>\n",
              "    <tr style=\"text-align: right;\">\n",
              "      <th></th>\n",
              "      <th>date</th>\n",
              "    </tr>\n",
              "  </thead>\n",
              "  <tbody>\n",
              "    <tr>\n",
              "      <th>0</th>\n",
              "      <td>05/10/20</td>\n",
              "    </tr>\n",
              "    <tr>\n",
              "      <th>1</th>\n",
              "      <td>05/10/20</td>\n",
              "    </tr>\n",
              "    <tr>\n",
              "      <th>2</th>\n",
              "      <td>05/10/20</td>\n",
              "    </tr>\n",
              "    <tr>\n",
              "      <th>3</th>\n",
              "      <td>05/10/20</td>\n",
              "    </tr>\n",
              "    <tr>\n",
              "      <th>4</th>\n",
              "      <td>05/10/20</td>\n",
              "    </tr>\n",
              "  </tbody>\n",
              "</table>\n",
              "</div>"
            ],
            "text/plain": [
              "       date\n",
              "0  05/10/20\n",
              "1  05/10/20\n",
              "2  05/10/20\n",
              "3  05/10/20\n",
              "4  05/10/20"
            ]
          },
          "metadata": {
            "tags": []
          },
          "execution_count": 65
        }
      ]
    },
    {
      "cell_type": "code",
      "metadata": {
        "id": "oIefDp57xXLI"
      },
      "source": [
        "df['time']=data.time\n",
        "df['author']=data.author\n",
        "df['msg']=data.msg"
      ],
      "execution_count": null,
      "outputs": []
    },
    {
      "cell_type": "code",
      "metadata": {
        "id": "Q-ULyP-yxo-U",
        "colab": {
          "base_uri": "https://localhost:8080/",
          "height": 204
        },
        "outputId": "0202c5bf-570d-4f32-84b4-f6514ce21b8c"
      },
      "source": [
        "df.head()"
      ],
      "execution_count": null,
      "outputs": [
        {
          "output_type": "execute_result",
          "data": {
            "text/html": [
              "<div>\n",
              "<style scoped>\n",
              "    .dataframe tbody tr th:only-of-type {\n",
              "        vertical-align: middle;\n",
              "    }\n",
              "\n",
              "    .dataframe tbody tr th {\n",
              "        vertical-align: top;\n",
              "    }\n",
              "\n",
              "    .dataframe thead th {\n",
              "        text-align: right;\n",
              "    }\n",
              "</style>\n",
              "<table border=\"1\" class=\"dataframe\">\n",
              "  <thead>\n",
              "    <tr style=\"text-align: right;\">\n",
              "      <th></th>\n",
              "      <th>date</th>\n",
              "      <th>time</th>\n",
              "      <th>author</th>\n",
              "      <th>msg</th>\n",
              "    </tr>\n",
              "  </thead>\n",
              "  <tbody>\n",
              "    <tr>\n",
              "      <th>0</th>\n",
              "      <td>05/10/20</td>\n",
              "      <td>9:48 am</td>\n",
              "      <td>Himabindu</td>\n",
              "      <td>Hi!</td>\n",
              "    </tr>\n",
              "    <tr>\n",
              "      <th>1</th>\n",
              "      <td>05/10/20</td>\n",
              "      <td>9:57 am</td>\n",
              "      <td>Himabindu</td>\n",
              "      <td>Was anything told about the syllabus of ML?</td>\n",
              "    </tr>\n",
              "    <tr>\n",
              "      <th>2</th>\n",
              "      <td>05/10/20</td>\n",
              "      <td>10:05 am</td>\n",
              "      <td>Bhumika</td>\n",
              "      <td>Hey</td>\n",
              "    </tr>\n",
              "    <tr>\n",
              "      <th>3</th>\n",
              "      <td>05/10/20</td>\n",
              "      <td>10:05 am</td>\n",
              "      <td>Bhumika</td>\n",
              "      <td>The first two units I think 😅</td>\n",
              "    </tr>\n",
              "    <tr>\n",
              "      <th>4</th>\n",
              "      <td>05/10/20</td>\n",
              "      <td>10:08 am</td>\n",
              "      <td>Himabindu</td>\n",
              "      <td>lab is going on. ttyl</td>\n",
              "    </tr>\n",
              "  </tbody>\n",
              "</table>\n",
              "</div>"
            ],
            "text/plain": [
              "       date  ...                                           msg\n",
              "0  05/10/20  ...                                           Hi!\n",
              "1  05/10/20  ...   Was anything told about the syllabus of ML?\n",
              "2  05/10/20  ...                                           Hey\n",
              "3  05/10/20  ...                 The first two units I think 😅\n",
              "4  05/10/20  ...                         lab is going on. ttyl\n",
              "\n",
              "[5 rows x 4 columns]"
            ]
          },
          "metadata": {
            "tags": []
          },
          "execution_count": 67
        }
      ]
    },
    {
      "cell_type": "code",
      "metadata": {
        "id": "6V_lMHnux2Ra",
        "colab": {
          "base_uri": "https://localhost:8080/",
          "height": 102
        },
        "outputId": "606ea955-bb50-4046-bd7d-8c1b5abc3623"
      },
      "source": [
        "df.count()"
      ],
      "execution_count": null,
      "outputs": [
        {
          "output_type": "execute_result",
          "data": {
            "text/plain": [
              "date      139\n",
              "time      139\n",
              "author    139\n",
              "msg       139\n",
              "dtype: int64"
            ]
          },
          "metadata": {
            "tags": []
          },
          "execution_count": 68
        }
      ]
    },
    {
      "cell_type": "code",
      "metadata": {
        "id": "cpJUvZrMyCwG",
        "colab": {
          "base_uri": "https://localhost:8080/",
          "height": 204
        },
        "outputId": "dd00ba01-a848-47a5-e23f-b56519320945"
      },
      "source": [
        "df.info()"
      ],
      "execution_count": null,
      "outputs": [
        {
          "output_type": "stream",
          "text": [
            "<class 'pandas.core.frame.DataFrame'>\n",
            "RangeIndex: 139 entries, 0 to 138\n",
            "Data columns (total 4 columns):\n",
            " #   Column  Non-Null Count  Dtype \n",
            "---  ------  --------------  ----- \n",
            " 0   date    139 non-null    object\n",
            " 1   time    139 non-null    object\n",
            " 2   author  139 non-null    object\n",
            " 3   msg     139 non-null    object\n",
            "dtypes: object(4)\n",
            "memory usage: 4.5+ KB\n"
          ],
          "name": "stdout"
        }
      ]
    },
    {
      "cell_type": "code",
      "metadata": {
        "id": "aO61ku-kyD3f",
        "colab": {
          "base_uri": "https://localhost:8080/",
          "height": 173
        },
        "outputId": "d7716847-fc4e-4217-9fd7-20517667da84"
      },
      "source": [
        "df.describe()"
      ],
      "execution_count": null,
      "outputs": [
        {
          "output_type": "execute_result",
          "data": {
            "text/html": [
              "<div>\n",
              "<style scoped>\n",
              "    .dataframe tbody tr th:only-of-type {\n",
              "        vertical-align: middle;\n",
              "    }\n",
              "\n",
              "    .dataframe tbody tr th {\n",
              "        vertical-align: top;\n",
              "    }\n",
              "\n",
              "    .dataframe thead th {\n",
              "        text-align: right;\n",
              "    }\n",
              "</style>\n",
              "<table border=\"1\" class=\"dataframe\">\n",
              "  <thead>\n",
              "    <tr style=\"text-align: right;\">\n",
              "      <th></th>\n",
              "      <th>date</th>\n",
              "      <th>time</th>\n",
              "      <th>author</th>\n",
              "      <th>msg</th>\n",
              "    </tr>\n",
              "  </thead>\n",
              "  <tbody>\n",
              "    <tr>\n",
              "      <th>count</th>\n",
              "      <td>139</td>\n",
              "      <td>139</td>\n",
              "      <td>139</td>\n",
              "      <td>139</td>\n",
              "    </tr>\n",
              "    <tr>\n",
              "      <th>unique</th>\n",
              "      <td>4</td>\n",
              "      <td>83</td>\n",
              "      <td>2</td>\n",
              "      <td>134</td>\n",
              "    </tr>\n",
              "    <tr>\n",
              "      <th>top</th>\n",
              "      <td>05/10/20</td>\n",
              "      <td>3:52 pm</td>\n",
              "      <td>Himabindu</td>\n",
              "      <td>You deleted this message</td>\n",
              "    </tr>\n",
              "    <tr>\n",
              "      <th>freq</th>\n",
              "      <td>70</td>\n",
              "      <td>5</td>\n",
              "      <td>91</td>\n",
              "      <td>5</td>\n",
              "    </tr>\n",
              "  </tbody>\n",
              "</table>\n",
              "</div>"
            ],
            "text/plain": [
              "            date       time      author                        msg\n",
              "count        139        139         139                        139\n",
              "unique         4         83           2                        134\n",
              "top     05/10/20   3:52 pm    Himabindu   You deleted this message\n",
              "freq          70          5          91                          5"
            ]
          },
          "metadata": {
            "tags": []
          },
          "execution_count": 70
        }
      ]
    },
    {
      "cell_type": "code",
      "metadata": {
        "id": "Pg3G0w7i1iI7",
        "colab": {
          "base_uri": "https://localhost:8080/",
          "height": 34
        },
        "outputId": "53607435-4887-41c8-b64f-e7f65753a125"
      },
      "source": [
        "!pip install emoji\n",
        "import emoji"
      ],
      "execution_count": null,
      "outputs": [
        {
          "output_type": "stream",
          "text": [
            "Requirement already satisfied: emoji in /usr/local/lib/python3.6/dist-packages (0.6.0)\n"
          ],
          "name": "stdout"
        }
      ]
    },
    {
      "cell_type": "code",
      "metadata": {
        "id": "HDUFfl0O4shx"
      },
      "source": [
        "#extract emojis from the given text s into a\n",
        "def extract_emojis(s):\n",
        "  try:\n",
        "    a=''.join(c for c in s if c in emoji.UNICODE_EMOJI)\n",
        "    if (a==''):\n",
        "      return None\n",
        "    else:\n",
        "      return a\n",
        "  except:\n",
        "      return None"
      ],
      "execution_count": null,
      "outputs": []
    },
    {
      "cell_type": "code",
      "metadata": {
        "id": "GeIeu_ws4vr0"
      },
      "source": [
        "data['emoji']=data['text'].apply(extract_emojis)"
      ],
      "execution_count": null,
      "outputs": []
    },
    {
      "cell_type": "code",
      "metadata": {
        "id": "Hg7b_M7e46Sf",
        "colab": {
          "base_uri": "https://localhost:8080/",
          "height": 221
        },
        "outputId": "c4f71b88-15a5-4f1a-a23c-9e5290a2d987"
      },
      "source": [
        "data['emoji'].value_counts()"
      ],
      "execution_count": null,
      "outputs": [
        {
          "output_type": "execute_result",
          "data": {
            "text/plain": [
              "🤔     3\n",
              "😊     2\n",
              "😞     2\n",
              "🏠     2\n",
              "😅     2\n",
              "     ..\n",
              "😂     1\n",
              "📱🏪    1\n",
              "🍜🍲    1\n",
              "👌❄    1\n",
              "😷😂    1\n",
              "Name: emoji, Length: 92, dtype: int64"
            ]
          },
          "metadata": {
            "tags": []
          },
          "execution_count": 74
        }
      ]
    },
    {
      "cell_type": "code",
      "metadata": {
        "id": "gB_T8Uqj48OK"
      },
      "source": [
        "df['emoji']=data['emoji']"
      ],
      "execution_count": null,
      "outputs": []
    },
    {
      "cell_type": "code",
      "metadata": {
        "id": "vcJS1yug5GWD",
        "colab": {
          "base_uri": "https://localhost:8080/",
          "height": 221
        },
        "outputId": "4cc1e013-e136-44fa-d965-a9cbefb96237"
      },
      "source": [
        "df['msg'].value_counts()"
      ],
      "execution_count": null,
      "outputs": [
        {
          "output_type": "execute_result",
          "data": {
            "text/plain": [
              " You deleted this message                          5\n",
              " This message was deleted                          2\n",
              " Will get it right now...need to hurry up🏃‍♀🏃‍♀    1\n",
              " yup 😍                                             1\n",
              " The skyline is so pretty! 🌅🌄🌇🌆                    1\n",
              "                                                  ..\n",
              " That is so sad 😭😭😞😞😔😣😫😩😢                          1\n",
              " 😅                                                 1\n",
              " I am switching off my phone📱📴                     1\n",
              " Need to pack so many things🥵🥴                     1\n",
              " Was anything told about the syllabus of ML?       1\n",
              "Name: msg, Length: 134, dtype: int64"
            ]
          },
          "metadata": {
            "tags": []
          },
          "execution_count": 76
        }
      ]
    },
    {
      "cell_type": "code",
      "metadata": {
        "id": "lzfw68CV5fGy"
      },
      "source": [
        "df.to_csv('whatsapp_bindu_bhumika.csv')"
      ],
      "execution_count": null,
      "outputs": []
    },
    {
      "cell_type": "code",
      "metadata": {
        "id": "EOKrw4D45uwV",
        "colab": {
          "base_uri": "https://localhost:8080/",
          "height": 34
        },
        "outputId": "05e2e9c7-6ef4-45f9-af38-061b124e2d86"
      },
      "source": [
        "df.shape"
      ],
      "execution_count": null,
      "outputs": [
        {
          "output_type": "execute_result",
          "data": {
            "text/plain": [
              "(139, 5)"
            ]
          },
          "metadata": {
            "tags": []
          },
          "execution_count": 80
        }
      ]
    },
    {
      "cell_type": "code",
      "metadata": {
        "id": "xLfPqv0a501o"
      },
      "source": [
        "a= pd.read_csv('/content/whatsapp_diksha_anushka.csv')"
      ],
      "execution_count": null,
      "outputs": []
    },
    {
      "cell_type": "code",
      "metadata": {
        "id": "2UEmoNTcuklL",
        "colab": {
          "base_uri": "https://localhost:8080/",
          "height": 204
        },
        "outputId": "19833b2a-8cf8-4501-c339-ab1a273d27db"
      },
      "source": [
        "a.head()"
      ],
      "execution_count": null,
      "outputs": [
        {
          "output_type": "execute_result",
          "data": {
            "text/html": [
              "<div>\n",
              "<style scoped>\n",
              "    .dataframe tbody tr th:only-of-type {\n",
              "        vertical-align: middle;\n",
              "    }\n",
              "\n",
              "    .dataframe tbody tr th {\n",
              "        vertical-align: top;\n",
              "    }\n",
              "\n",
              "    .dataframe thead th {\n",
              "        text-align: right;\n",
              "    }\n",
              "</style>\n",
              "<table border=\"1\" class=\"dataframe\">\n",
              "  <thead>\n",
              "    <tr style=\"text-align: right;\">\n",
              "      <th></th>\n",
              "      <th>Unnamed: 0</th>\n",
              "      <th>date</th>\n",
              "      <th>time</th>\n",
              "      <th>author</th>\n",
              "      <th>msg</th>\n",
              "      <th>emoji</th>\n",
              "    </tr>\n",
              "  </thead>\n",
              "  <tbody>\n",
              "    <tr>\n",
              "      <th>0</th>\n",
              "      <td>0</td>\n",
              "      <td>05/10/20</td>\n",
              "      <td>9:48 am</td>\n",
              "      <td>Himabindu</td>\n",
              "      <td>Hi!</td>\n",
              "      <td>NaN</td>\n",
              "    </tr>\n",
              "    <tr>\n",
              "      <th>1</th>\n",
              "      <td>1</td>\n",
              "      <td>05/10/20</td>\n",
              "      <td>9:57 am</td>\n",
              "      <td>Himabindu</td>\n",
              "      <td>Was anything told about the syllabus of ML?</td>\n",
              "      <td>NaN</td>\n",
              "    </tr>\n",
              "    <tr>\n",
              "      <th>2</th>\n",
              "      <td>2</td>\n",
              "      <td>05/10/20</td>\n",
              "      <td>10:05 am</td>\n",
              "      <td>Bhumika</td>\n",
              "      <td>Hey</td>\n",
              "      <td>NaN</td>\n",
              "    </tr>\n",
              "    <tr>\n",
              "      <th>3</th>\n",
              "      <td>3</td>\n",
              "      <td>05/10/20</td>\n",
              "      <td>10:05 am</td>\n",
              "      <td>Bhumika</td>\n",
              "      <td>The first two units I think 😅</td>\n",
              "      <td>😅</td>\n",
              "    </tr>\n",
              "    <tr>\n",
              "      <th>4</th>\n",
              "      <td>4</td>\n",
              "      <td>05/10/20</td>\n",
              "      <td>10:08 am</td>\n",
              "      <td>Himabindu</td>\n",
              "      <td>lab is going on. ttyl</td>\n",
              "      <td>NaN</td>\n",
              "    </tr>\n",
              "  </tbody>\n",
              "</table>\n",
              "</div>"
            ],
            "text/plain": [
              "   Unnamed: 0      date  ...                                           msg emoji\n",
              "0           0  05/10/20  ...                                           Hi!   NaN\n",
              "1           1  05/10/20  ...   Was anything told about the syllabus of ML?   NaN\n",
              "2           2  05/10/20  ...                                           Hey   NaN\n",
              "3           3  05/10/20  ...                 The first two units I think 😅     😅\n",
              "4           4  05/10/20  ...                         lab is going on. ttyl   NaN\n",
              "\n",
              "[5 rows x 6 columns]"
            ]
          },
          "metadata": {
            "tags": []
          },
          "execution_count": 82
        }
      ]
    },
    {
      "cell_type": "code",
      "metadata": {
        "id": "Feq3PXlIulV-"
      },
      "source": [
        "a= pd.read_csv('/content/whatsapp_bindu_bhumika.csv')"
      ],
      "execution_count": null,
      "outputs": []
    },
    {
      "cell_type": "code",
      "metadata": {
        "id": "PlxajUAhuvcO"
      },
      "source": [
        "b= pd.read_csv('/content/whatsapp_diksha_anushka.csv')"
      ],
      "execution_count": null,
      "outputs": []
    },
    {
      "cell_type": "code",
      "metadata": {
        "id": "OoQbe-GXux5S",
        "colab": {
          "base_uri": "https://localhost:8080/",
          "height": 34
        },
        "outputId": "523915bc-e3ba-4890-bd06-0a89a3fa62cf"
      },
      "source": [
        "a.shape"
      ],
      "execution_count": null,
      "outputs": [
        {
          "output_type": "execute_result",
          "data": {
            "text/plain": [
              "(139, 6)"
            ]
          },
          "metadata": {
            "tags": []
          },
          "execution_count": 85
        }
      ]
    },
    {
      "cell_type": "code",
      "metadata": {
        "id": "lUDVi9DNuy3c",
        "colab": {
          "base_uri": "https://localhost:8080/",
          "height": 34
        },
        "outputId": "0599a789-f3c9-4e42-be3c-bc1c9c2f59c3"
      },
      "source": [
        "b.shape"
      ],
      "execution_count": null,
      "outputs": [
        {
          "output_type": "execute_result",
          "data": {
            "text/plain": [
              "(164, 6)"
            ]
          },
          "metadata": {
            "tags": []
          },
          "execution_count": 86
        }
      ]
    },
    {
      "cell_type": "code",
      "metadata": {
        "id": "Elrlt4iRuzed"
      },
      "source": [
        "df=pd.concat([a,b])"
      ],
      "execution_count": null,
      "outputs": []
    },
    {
      "cell_type": "code",
      "metadata": {
        "id": "CPV3ksF0u8Po",
        "colab": {
          "base_uri": "https://localhost:8080/",
          "height": 204
        },
        "outputId": "655b7e58-69c8-4866-81f5-4b8344bafbeb"
      },
      "source": [
        "df.head()"
      ],
      "execution_count": null,
      "outputs": [
        {
          "output_type": "execute_result",
          "data": {
            "text/html": [
              "<div>\n",
              "<style scoped>\n",
              "    .dataframe tbody tr th:only-of-type {\n",
              "        vertical-align: middle;\n",
              "    }\n",
              "\n",
              "    .dataframe tbody tr th {\n",
              "        vertical-align: top;\n",
              "    }\n",
              "\n",
              "    .dataframe thead th {\n",
              "        text-align: right;\n",
              "    }\n",
              "</style>\n",
              "<table border=\"1\" class=\"dataframe\">\n",
              "  <thead>\n",
              "    <tr style=\"text-align: right;\">\n",
              "      <th></th>\n",
              "      <th>Unnamed: 0</th>\n",
              "      <th>date</th>\n",
              "      <th>time</th>\n",
              "      <th>author</th>\n",
              "      <th>msg</th>\n",
              "      <th>emoji</th>\n",
              "    </tr>\n",
              "  </thead>\n",
              "  <tbody>\n",
              "    <tr>\n",
              "      <th>0</th>\n",
              "      <td>0</td>\n",
              "      <td>05/10/20</td>\n",
              "      <td>9:48 am</td>\n",
              "      <td>Himabindu</td>\n",
              "      <td>Hi!</td>\n",
              "      <td>NaN</td>\n",
              "    </tr>\n",
              "    <tr>\n",
              "      <th>1</th>\n",
              "      <td>1</td>\n",
              "      <td>05/10/20</td>\n",
              "      <td>9:57 am</td>\n",
              "      <td>Himabindu</td>\n",
              "      <td>Was anything told about the syllabus of ML?</td>\n",
              "      <td>NaN</td>\n",
              "    </tr>\n",
              "    <tr>\n",
              "      <th>2</th>\n",
              "      <td>2</td>\n",
              "      <td>05/10/20</td>\n",
              "      <td>10:05 am</td>\n",
              "      <td>Bhumika</td>\n",
              "      <td>Hey</td>\n",
              "      <td>NaN</td>\n",
              "    </tr>\n",
              "    <tr>\n",
              "      <th>3</th>\n",
              "      <td>3</td>\n",
              "      <td>05/10/20</td>\n",
              "      <td>10:05 am</td>\n",
              "      <td>Bhumika</td>\n",
              "      <td>The first two units I think 😅</td>\n",
              "      <td>😅</td>\n",
              "    </tr>\n",
              "    <tr>\n",
              "      <th>4</th>\n",
              "      <td>4</td>\n",
              "      <td>05/10/20</td>\n",
              "      <td>10:08 am</td>\n",
              "      <td>Himabindu</td>\n",
              "      <td>lab is going on. ttyl</td>\n",
              "      <td>NaN</td>\n",
              "    </tr>\n",
              "  </tbody>\n",
              "</table>\n",
              "</div>"
            ],
            "text/plain": [
              "   Unnamed: 0      date  ...                                           msg emoji\n",
              "0           0  05/10/20  ...                                           Hi!   NaN\n",
              "1           1  05/10/20  ...   Was anything told about the syllabus of ML?   NaN\n",
              "2           2  05/10/20  ...                                           Hey   NaN\n",
              "3           3  05/10/20  ...                 The first two units I think 😅     😅\n",
              "4           4  05/10/20  ...                         lab is going on. ttyl   NaN\n",
              "\n",
              "[5 rows x 6 columns]"
            ]
          },
          "metadata": {
            "tags": []
          },
          "execution_count": 88
        }
      ]
    },
    {
      "cell_type": "code",
      "metadata": {
        "id": "jM42aixwu9RB",
        "colab": {
          "base_uri": "https://localhost:8080/",
          "height": 34
        },
        "outputId": "5a39d61c-4bba-4935-ed1e-f179c6365399"
      },
      "source": [
        "df.shape"
      ],
      "execution_count": null,
      "outputs": [
        {
          "output_type": "execute_result",
          "data": {
            "text/plain": [
              "(303, 6)"
            ]
          },
          "metadata": {
            "tags": []
          },
          "execution_count": 89
        }
      ]
    },
    {
      "cell_type": "code",
      "metadata": {
        "id": "tpbRov1UvAwo"
      },
      "source": [
        "df.to_csv('combined_whatsapp_chat.csv')"
      ],
      "execution_count": null,
      "outputs": []
    },
    {
      "cell_type": "code",
      "metadata": {
        "id": "xZUmFyYDvFAD"
      },
      "source": [
        ""
      ],
      "execution_count": null,
      "outputs": []
    }
  ]
}